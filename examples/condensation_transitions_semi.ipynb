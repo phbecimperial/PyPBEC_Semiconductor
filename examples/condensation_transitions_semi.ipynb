{
 "cells": [
  {
   "cell_type": "markdown",
   "metadata": {},
   "source": [
    "Written by Joao Rodrigues\n",
    "\n",
    "June 2020\n",
    "\n",
    "Example: Implements a simple, spatially resolved, 2D harmonic oscillator and calculates the steady-state populations and a function of increasing pump power. The idea is to show the occurence of BEC phase transition, and eventually other phase transitions.\n",
    "\n",
    "Note: All parameters are defined in SI units\n"
   ]
  },
  {
   "cell_type": "code",
   "execution_count": null,
   "metadata": {
    "ExecuteTime": {
     "end_time": "2024-03-30T22:25:38.542937600Z",
     "start_time": "2024-03-30T22:25:38.538933500Z"
    }
   },
   "outputs": [],
   "source": [
    "import numpy as np\n",
    "import scipy.constants as sc\n",
    "import matplotlib.pyplot as plt\n",
    "import os\n",
    "import sys\n",
    "sys.path.insert(0, os.path.abspath('..'))"
   ]
  },
  {
   "cell_type": "markdown",
   "metadata": {},
   "source": [
    "## Calculates the cavity modes for a spherical mirror"
   ]
  },
  {
   "cell_type": "code",
   "execution_count": null,
   "metadata": {
    "ExecuteTime": {
     "start_time": "2024-03-30T22:25:38.541933700Z"
    }
   },
   "outputs": [],
   "source": [
    "grid_size = 12.0*1e-6      # meters\n",
    "grid_delta = 0.5*1e-6      # meters \n",
    "L0 = 1.9*1e-6              # meters \n",
    "q = 10                     # longitudinal mode number\n",
    "n = 2.4\n",
    "#n=1.43\n",
    "n_modes = 40\n",
    "feature_RoC = 100.0*1e-6   # meters\n",
    "feature_depth = 0.279*1e-6 # meters\n",
    "\n",
    "from PyPBEC.Cavity import Modes\n",
    "cavity_modes = Modes(grid_size=grid_size, grid_delta=grid_delta, L0=L0, q=q, n=n, n_modes=n_modes)\n",
    "cavity_modes.set_geometry_elliptical(RoC=feature_RoC, depth=feature_depth, anistropy_factor=1.001)\n",
    "lambdas, modes = cavity_modes.compute_cavity_modes()\n",
    "g = cavity_modes.get_coupling_matrix()\n",
    "print(lambdas)"
   ]
  },
  {
   "cell_type": "markdown",
   "metadata": {},
   "source": [
    "## Defines the cavity pump profile"
   ]
  },
  {
   "cell_type": "code",
   "execution_count": null,
   "metadata": {
    "ExecuteTime": {
     "end_time": "2024-03-30T22:25:38.546939900Z",
     "start_time": "2024-03-30T22:25:38.545936Z"
    }
   },
   "outputs": [],
   "source": [
    "pump_width = 2.5*1e-6       # meters\n",
    "\n",
    "X, Y = cavity_modes.get_cavity_grid()\n",
    "pump_base = np.exp(-((X)**2+Y**2) / pump_width**2)\n",
    "pump = 1*(pump_base/np.sum(pump_base))\n",
    "cavity_modes.load_pump(pump=pump)"
   ]
  },
  {
   "cell_type": "markdown",
   "metadata": {},
   "source": [
    "## Plots the cavity modes and the pump profile"
   ]
  },
  {
   "cell_type": "code",
   "execution_count": null,
   "metadata": {
    "ExecuteTime": {
     "start_time": "2024-03-30T22:25:38.548933700Z"
    }
   },
   "outputs": [],
   "source": [
    "cavity_modes.plot_cavity(start_mode=0)\n"
   ]
  },
  {
   "cell_type": "markdown",
   "metadata": {},
   "source": [
    "## Calculates emission and absorption rates from experimental data"
   ]
  },
  {
   "cell_type": "code",
   "execution_count": null,
   "metadata": {
    "ExecuteTime": {
     "start_time": "2024-03-30T22:25:38.552935900Z"
    }
   },
   "outputs": [],
   "source": [
    "dye_concentration = 2.0               # in mM, with 1 mM=1mol/m^3\n",
    "\n",
    "from PyPBEC.OpticalMedium import OpticalMedium\n",
    "R6G = OpticalMedium(optical_medium=\"InGaAs_QW\")\n",
    "absorption_rates, emission_rates = R6G.get_rates(lambdas=lambdas, mode=17)\n",
    "\n",
    "#R6G = OpticalMedium(optical_medium=\"Rhodamine6G\")\n",
    "#absorption_rates, emission_rates = R6G.get_rates(lambdas=lambdas, dye_concentration=dye_concentration, n=n)\n",
    "\n",
    "plt.plot(lambdas, absorption_rates, label='absorption')\n",
    "plt.plot(lambdas, emission_rates, label='emission')\n",
    "plt.legend()\n",
    "plt.show()"
   ]
  },
  {
   "cell_type": "markdown",
   "metadata": {},
   "source": [
    "#### Normalizes the rates, for better numerical performance"
   ]
  },
  {
   "cell_type": "code",
   "execution_count": null,
   "metadata": {
    "ExecuteTime": {
     "end_time": "2024-03-30T22:25:38.566933500Z",
     "start_time": "2024-03-30T22:25:38.556934600Z"
    }
   },
   "outputs": [],
   "source": [
    "#cavity_loss_rate = 1.0/(10*1e-12)     # in s^-1\n",
    "cavity_loss_rate = 20     # in s^-1\n",
    "\n",
    "\n",
    "\n",
    "cavity_loss_rates = np.ones(n_modes)\n",
    "emission_rates = emission_rates / cavity_loss_rate\n",
    "absorption_rates = absorption_rates / cavity_loss_rate\n",
    "\n",
    "plt.plot(lambdas, absorption_rates, label = 'abs')\n",
    "plt.plot(lambdas, emission_rates, label = 'emi')\n",
    "plt.legend()\n",
    "plt.show()"
   ]
  },
  {
   "cell_type": "markdown",
   "metadata": {},
   "source": [
    "## Defines a cavity"
   ]
  },
  {
   "cell_type": "code",
   "execution_count": null,
   "metadata": {
    "ExecuteTime": {
     "start_time": "2024-03-30T22:25:38.559934Z"
    }
   },
   "outputs": [],
   "source": [
    "Gamma_down = 100.0\n",
    "\n",
    "# Properties of the photonic modes\n",
    "from PyPBEC.Cavity import Cavity\n",
    "cavity = Cavity(M=n_modes, J=g.shape[1])\n",
    "cavity.set_cavity_loss_rates(rates=cavity_loss_rates)\n",
    "cavity.set_cavity_emission_rates(rates=emission_rates)\n",
    "cavity.set_cavity_absorption_rates(rates=absorption_rates)\n",
    "\n",
    "# Properties of the molecular modes\n",
    "cavity.set_reservoir_decay_rates(rates=Gamma_down*np.ones(g.shape[1]))\n",
    "cavity.set_reservoir_pump_rates(rates=np.reshape(pump, [pump.shape[0]*pump.shape[1]]))\n",
    "molecular_population = np.array(sc.Avogadro*dye_concentration*(0.5*L0*grid_delta**2)*np.ones(g.shape[1]), dtype=int)\n",
    "cavity.set_reservoir_population(population=molecular_population)\n",
    "\n",
    "# Coupling between photonic and molecular modes\n",
    "cavity.set_coupling_terms(coupling_terms=g)\n"
   ]
  },
  {
   "cell_type": "markdown",
   "metadata": {},
   "source": [
    "## Creates the array of pump values"
   ]
  },
  {
   "cell_type": "code",
   "execution_count": null,
   "metadata": {
    "ExecuteTime": {
     "start_time": "2024-03-30T22:25:38.561934Z"
    }
   },
   "outputs": [],
   "source": [
    "pump_value_min = 100.0\n",
    "pump_value_max = 1000000.0\n",
    "n_pump_values = 30\n",
    "\n",
    "delta_p = (pump_value_max/pump_value_min)**(1/n_pump_values)-1\n",
    "pumps = [(1+delta_p)**i*pump_value_min for i in range(0, n_pump_values)]"
   ]
  },
  {
   "cell_type": "markdown",
   "metadata": {},
   "source": [
    "## Solves the mean-field steady-state"
   ]
  },
  {
   "cell_type": "code",
   "execution_count": null,
   "metadata": {
    "ExecuteTime": {
     "start_time": "2024-03-30T22:25:38.563933300Z"
    }
   },
   "outputs": [],
   "source": [
    "from PyPBEC.Solver import SteadyState\n",
    "from tqdm import tqdm\n",
    "populations = list()\n",
    "for value in tqdm(pumps):\n",
    "    # loads the pump onto the cavity object\n",
    "    pump = value*(pump_base/np.sum(pump_base))\n",
    "    cavity.set_reservoir_pump_rates(rates=np.reshape(pump, [pump.shape[0]*pump.shape[1]]))\n",
    "    \n",
    "    # Steady-state solver\n",
    "    solver_steadystate = SteadyState(cavity_obj=cavity, ANNEALING=False)\n",
    "    # Defines the initial guess\n",
    "    if value==pumps[0]:\n",
    "        solver_steadystate.set_initial_photons(initial_photons=np.array(np.zeros(cavity.M)))\n",
    "        solver_steadystate.set_initial_excited_molecules(initial_excited_molecules=np.array(np.zeros(cavity.J)))  \n",
    "    else:\n",
    "        solver_steadystate.set_initial_photons(initial_photons=np.array(solved_cavity_steadystate.photons[-1]))\n",
    "        solver_steadystate.set_initial_excited_molecules(initial_excited_molecules=np.array(solved_cavity_steadystate.emols[-1])) \n",
    "    \n",
    "    # Calls the solver\n",
    "    solved_cavity_steadystate = solver_steadystate.solve()\n",
    "    \n",
    "    # Sums the populations over the mode degeneracy, g=n+1, with n=0,1,2,...\n",
    "    mode_degeneracy = np.array([j for j in range(0, n_modes) for i in range(0, j)][0:n_modes])\n",
    "    steady_state_photon_population = [np.sum(solved_cavity_steadystate.photons[:,np.where(mode_degeneracy==mode_number)[0]], 1) \n",
    "        for mode_number in list(set(list(mode_degeneracy)))]\n",
    "    steady_state_photon_population = np.transpose(np.array(steady_state_photon_population))\n",
    "    \n",
    "    # Appends\n",
    "    populations.append(steady_state_photon_population)\n",
    "populations = np.array(populations)"
   ]
  },
  {
   "cell_type": "markdown",
   "metadata": {},
   "source": [
    "## Plots the results"
   ]
  },
  {
   "cell_type": "code",
   "execution_count": null,
   "metadata": {
    "ExecuteTime": {
     "start_time": "2024-03-30T22:25:38.565932800Z"
    }
   },
   "outputs": [],
   "source": [
    "populations = np.squeeze(populations)\n",
    "\n",
    "[plt.plot(pumps, populations[:,i], label=\"mode {0}\".format(i)) for i in range(0, populations.shape[1])]\n",
    "plt.legend()\n",
    "plt.xlabel(\"Pump\")\n",
    "plt.xscale(\"log\")\n",
    "plt.ylabel(\"Photons\")\n",
    "plt.yscale(\"log\")\n",
    "plt.title(\"Absolute populations\")\n",
    "plt.show()\n",
    "\n",
    "[plt.plot(pumps, populations[:,i]/np.sum(populations,1), label=\"mode {0}\".format(i)) for i in range(0, populations.shape[1])]\n",
    "plt.legend()\n",
    "plt.xlabel(\"Pump\")\n",
    "plt.xscale(\"log\")\n",
    "plt.ylabel(\"Photons\")\n",
    "plt.title(\"Relative populations\")\n",
    "plt.show()"
   ]
  },
  {
   "cell_type": "code",
   "execution_count": null,
   "metadata": {
    "ExecuteTime": {
     "end_time": "2024-03-30T22:25:38.606472100Z",
     "start_time": "2024-03-30T22:25:38.567933400Z"
    }
   },
   "outputs": [],
   "source": []
  },
  {
   "cell_type": "code",
   "execution_count": null,
   "metadata": {
    "ExecuteTime": {
     "start_time": "2024-03-30T22:25:38.570934400Z"
    }
   },
   "outputs": [],
   "source": []
  }
 ],
 "metadata": {
  "kernelspec": {
   "display_name": "Python 3",
   "language": "python",
   "name": "python3"
  },
  "language_info": {
   "codemirror_mode": {
    "name": "ipython",
    "version": 3
   },
   "file_extension": ".py",
   "mimetype": "text/x-python",
   "name": "python",
   "nbconvert_exporter": "python",
   "pygments_lexer": "ipython3",
   "version": "3.8.5"
  }
 },
 "nbformat": 4,
 "nbformat_minor": 4
}
